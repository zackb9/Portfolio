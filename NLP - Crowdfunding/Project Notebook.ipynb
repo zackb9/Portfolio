{
 "cells": [
  {
   "cell_type": "code",
   "execution_count": 1,
   "metadata": {},
   "outputs": [],
   "source": [
    "import numpy as np\n",
    "import pandas as pd\n",
    "import matplotlib.pyplot as plt\n",
    "import sklearn\n",
    "import sys\n",
    "import nltk\n",
    "import pandas as pd\n",
    "from sklearn.feature_extraction.text import CountVectorizer\n",
    "from sklearn.preprocessing import LabelEncoder\n",
    "from sklearn.ensemble import AdaBoostClassifier\n",
    "from sklearn.tree import DecisionTreeClassifier\n",
    "from string import punctuation\n",
    "import json\n",
    "import gensim\n",
    "import seaborn as sns\n",
    "from sklearn.metrics import confusion_matrix, precision_score, recall_score, f1_score , accuracy_score\n",
    "import xgboost as xgb\n",
    "from sklearn.model_selection import GridSearchCV\n",
    "from sklearn.tree import DecisionTreeClassifier\n",
    "import plotly.express as px  \n",
    "from sklearn.neighbors import KNeighborsClassifier\n",
    "from sklearn.ensemble import RandomForestClassifier\n",
    "import plotly.graph_objects as go \n",
    "from sklearn import metrics\n",
    "from sklearn.model_selection import cross_val_score\n",
    "\n",
    "from sklearn.model_selection import train_test_split\n",
    "\n",
    "import graphviz \n",
    "from statsmodels.formula.api import ols\n",
    "import statsmodels.api as sm\n",
    "from sklearn.linear_model import LogisticRegression\n",
    "from sklearn import tree\n",
    "from sklearn.metrics import roc_curve, auc\n",
    "\n",
    "\n",
    "%matplotlib inline\n",
    "plt.style.use('seaborn')\n",
    "plt.rcParams['figure.figsize'] = [18, 10]\n",
    "\n",
    "#loading the data\n",
    "train_dataset = pd.read_json(\"Kickstarter_2022-12-15T03_20_04_521Z.json\", lines=True)\n",
    "actual_data = [train_dataset[\"data\"][k] for k in range(len(train_dataset))]"
   ]
  },
  {
   "attachments": {},
   "cell_type": "markdown",
   "metadata": {},
   "source": [
    "# Pre-processing"
   ]
  },
  {
   "cell_type": "code",
   "execution_count": 2,
   "metadata": {},
   "outputs": [
    {
     "data": {
      "text/html": [
       "<div>\n",
       "<style scoped>\n",
       "    .dataframe tbody tr th:only-of-type {\n",
       "        vertical-align: middle;\n",
       "    }\n",
       "\n",
       "    .dataframe tbody tr th {\n",
       "        vertical-align: top;\n",
       "    }\n",
       "\n",
       "    .dataframe thead th {\n",
       "        text-align: right;\n",
       "    }\n",
       "</style>\n",
       "<table border=\"1\" class=\"dataframe\">\n",
       "  <thead>\n",
       "    <tr style=\"text-align: right;\">\n",
       "      <th></th>\n",
       "      <th>id</th>\n",
       "      <th>photo</th>\n",
       "      <th>name</th>\n",
       "      <th>blurb</th>\n",
       "      <th>goal</th>\n",
       "      <th>pledged</th>\n",
       "      <th>state</th>\n",
       "      <th>slug</th>\n",
       "      <th>disable_communication</th>\n",
       "      <th>country</th>\n",
       "      <th>...</th>\n",
       "      <th>location</th>\n",
       "      <th>category</th>\n",
       "      <th>profile</th>\n",
       "      <th>spotlight</th>\n",
       "      <th>urls</th>\n",
       "      <th>source_url</th>\n",
       "      <th>friends</th>\n",
       "      <th>is_starred</th>\n",
       "      <th>is_backing</th>\n",
       "      <th>permissions</th>\n",
       "    </tr>\n",
       "  </thead>\n",
       "  <tbody>\n",
       "    <tr>\n",
       "      <th>0</th>\n",
       "      <td>2014941593</td>\n",
       "      <td>{'key': 'assets/038/408/400/93382a88c9dbc1af95...</td>\n",
       "      <td>Driving School Stories of Celebrity Teens</td>\n",
       "      <td>Live camera installed inside an actual driving...</td>\n",
       "      <td>120000</td>\n",
       "      <td>26.0</td>\n",
       "      <td>failed</td>\n",
       "      <td>driving-school-stories-of-celebrity-teens</td>\n",
       "      <td>False</td>\n",
       "      <td>US</td>\n",
       "      <td>...</td>\n",
       "      <td>{'id': 2363796, 'name': 'Beverly Hills', 'slug...</td>\n",
       "      <td>{'id': 292, 'name': 'Comedy', 'analytics_name'...</td>\n",
       "      <td>{'id': 4465571, 'project_id': 4465571, 'state'...</td>\n",
       "      <td>False</td>\n",
       "      <td>{'web': {'project': 'https://www.kickstarter.c...</td>\n",
       "      <td>https://www.kickstarter.com/discover/categorie...</td>\n",
       "      <td>NaN</td>\n",
       "      <td>NaN</td>\n",
       "      <td>NaN</td>\n",
       "      <td>NaN</td>\n",
       "    </tr>\n",
       "    <tr>\n",
       "      <th>1</th>\n",
       "      <td>1932477189</td>\n",
       "      <td>{'key': 'assets/039/331/847/6e37eed9904bea5a61...</td>\n",
       "      <td>Crime Squad 3D Blu-ray - REMASTER3D!</td>\n",
       "      <td>Crime Squad 3D in Superstereovision! Remastere...</td>\n",
       "      <td>2000</td>\n",
       "      <td>2541.0</td>\n",
       "      <td>live</td>\n",
       "      <td>crime-squad-3d-blu-ray</td>\n",
       "      <td>False</td>\n",
       "      <td>GB</td>\n",
       "      <td>...</td>\n",
       "      <td>{'id': 19344, 'name': 'Edinburgh', 'slug': 'ed...</td>\n",
       "      <td>{'id': 292, 'name': 'Comedy', 'analytics_name'...</td>\n",
       "      <td>{'id': 4516474, 'project_id': 4516474, 'state'...</td>\n",
       "      <td>False</td>\n",
       "      <td>{'web': {'project': 'https://www.kickstarter.c...</td>\n",
       "      <td>https://www.kickstarter.com/discover/categorie...</td>\n",
       "      <td>NaN</td>\n",
       "      <td>NaN</td>\n",
       "      <td>NaN</td>\n",
       "      <td>NaN</td>\n",
       "    </tr>\n",
       "    <tr>\n",
       "      <th>2</th>\n",
       "      <td>1127603300</td>\n",
       "      <td>{'key': 'assets/039/363/407/a22ed33f3e39868214...</td>\n",
       "      <td>Help Us Get To Los Angeles!</td>\n",
       "      <td>As winners of the 48-Hour Film Project, we hop...</td>\n",
       "      <td>16000</td>\n",
       "      <td>106.0</td>\n",
       "      <td>live</td>\n",
       "      <td>help-subharmonic-city-get-to-hollywood</td>\n",
       "      <td>False</td>\n",
       "      <td>US</td>\n",
       "      <td>...</td>\n",
       "      <td>{'id': 2397816, 'name': 'El Paso', 'slug': 'el...</td>\n",
       "      <td>{'id': 292, 'name': 'Comedy', 'analytics_name'...</td>\n",
       "      <td>{'id': 4518603, 'project_id': 4518603, 'state'...</td>\n",
       "      <td>False</td>\n",
       "      <td>{'web': {'project': 'https://www.kickstarter.c...</td>\n",
       "      <td>https://www.kickstarter.com/discover/categorie...</td>\n",
       "      <td>NaN</td>\n",
       "      <td>NaN</td>\n",
       "      <td>NaN</td>\n",
       "      <td>NaN</td>\n",
       "    </tr>\n",
       "    <tr>\n",
       "      <th>3</th>\n",
       "      <td>640015337</td>\n",
       "      <td>{'key': 'assets/039/441/179/34d28696f4d6b0e43c...</td>\n",
       "      <td>SECRET</td>\n",
       "      <td>A Superhero Comedy</td>\n",
       "      <td>50000</td>\n",
       "      <td>501.0</td>\n",
       "      <td>live</td>\n",
       "      <td>secret-0</td>\n",
       "      <td>False</td>\n",
       "      <td>US</td>\n",
       "      <td>...</td>\n",
       "      <td>{'id': 2416847, 'name': 'Hampton', 'slug': 'ha...</td>\n",
       "      <td>{'id': 292, 'name': 'Comedy', 'analytics_name'...</td>\n",
       "      <td>{'id': 4521089, 'project_id': 4521089, 'state'...</td>\n",
       "      <td>False</td>\n",
       "      <td>{'web': {'project': 'https://www.kickstarter.c...</td>\n",
       "      <td>https://www.kickstarter.com/discover/categorie...</td>\n",
       "      <td>NaN</td>\n",
       "      <td>NaN</td>\n",
       "      <td>NaN</td>\n",
       "      <td>NaN</td>\n",
       "    </tr>\n",
       "    <tr>\n",
       "      <th>4</th>\n",
       "      <td>233782977</td>\n",
       "      <td>{'key': 'assets/039/379/732/36d936f41c46751a38...</td>\n",
       "      <td>PINK (Short Film)</td>\n",
       "      <td>A neurotic actress falls into crisis at her bi...</td>\n",
       "      <td>2000</td>\n",
       "      <td>1176.0</td>\n",
       "      <td>live</td>\n",
       "      <td>pink-short-film</td>\n",
       "      <td>False</td>\n",
       "      <td>US</td>\n",
       "      <td>...</td>\n",
       "      <td>{'id': 2379574, 'name': 'Chicago', 'slug': 'ch...</td>\n",
       "      <td>{'id': 292, 'name': 'Comedy', 'analytics_name'...</td>\n",
       "      <td>{'id': 4519929, 'project_id': 4519929, 'state'...</td>\n",
       "      <td>False</td>\n",
       "      <td>{'web': {'project': 'https://www.kickstarter.c...</td>\n",
       "      <td>https://www.kickstarter.com/discover/categorie...</td>\n",
       "      <td>NaN</td>\n",
       "      <td>NaN</td>\n",
       "      <td>NaN</td>\n",
       "      <td>NaN</td>\n",
       "    </tr>\n",
       "  </tbody>\n",
       "</table>\n",
       "<p>5 rows × 39 columns</p>\n",
       "</div>"
      ],
      "text/plain": [
       "           id                                              photo   \n",
       "0  2014941593  {'key': 'assets/038/408/400/93382a88c9dbc1af95...  \\\n",
       "1  1932477189  {'key': 'assets/039/331/847/6e37eed9904bea5a61...   \n",
       "2  1127603300  {'key': 'assets/039/363/407/a22ed33f3e39868214...   \n",
       "3   640015337  {'key': 'assets/039/441/179/34d28696f4d6b0e43c...   \n",
       "4   233782977  {'key': 'assets/039/379/732/36d936f41c46751a38...   \n",
       "\n",
       "                                        name   \n",
       "0  Driving School Stories of Celebrity Teens  \\\n",
       "1       Crime Squad 3D Blu-ray - REMASTER3D!   \n",
       "2                Help Us Get To Los Angeles!   \n",
       "3                                     SECRET   \n",
       "4                          PINK (Short Film)   \n",
       "\n",
       "                                               blurb    goal  pledged   state   \n",
       "0  Live camera installed inside an actual driving...  120000     26.0  failed  \\\n",
       "1  Crime Squad 3D in Superstereovision! Remastere...    2000   2541.0    live   \n",
       "2  As winners of the 48-Hour Film Project, we hop...   16000    106.0    live   \n",
       "3                                 A Superhero Comedy   50000    501.0    live   \n",
       "4  A neurotic actress falls into crisis at her bi...    2000   1176.0    live   \n",
       "\n",
       "                                        slug  disable_communication country   \n",
       "0  driving-school-stories-of-celebrity-teens                  False      US  \\\n",
       "1                     crime-squad-3d-blu-ray                  False      GB   \n",
       "2     help-subharmonic-city-get-to-hollywood                  False      US   \n",
       "3                                   secret-0                  False      US   \n",
       "4                            pink-short-film                  False      US   \n",
       "\n",
       "   ...                                           location   \n",
       "0  ...  {'id': 2363796, 'name': 'Beverly Hills', 'slug...  \\\n",
       "1  ...  {'id': 19344, 'name': 'Edinburgh', 'slug': 'ed...   \n",
       "2  ...  {'id': 2397816, 'name': 'El Paso', 'slug': 'el...   \n",
       "3  ...  {'id': 2416847, 'name': 'Hampton', 'slug': 'ha...   \n",
       "4  ...  {'id': 2379574, 'name': 'Chicago', 'slug': 'ch...   \n",
       "\n",
       "                                            category   \n",
       "0  {'id': 292, 'name': 'Comedy', 'analytics_name'...  \\\n",
       "1  {'id': 292, 'name': 'Comedy', 'analytics_name'...   \n",
       "2  {'id': 292, 'name': 'Comedy', 'analytics_name'...   \n",
       "3  {'id': 292, 'name': 'Comedy', 'analytics_name'...   \n",
       "4  {'id': 292, 'name': 'Comedy', 'analytics_name'...   \n",
       "\n",
       "                                             profile  spotlight   \n",
       "0  {'id': 4465571, 'project_id': 4465571, 'state'...      False  \\\n",
       "1  {'id': 4516474, 'project_id': 4516474, 'state'...      False   \n",
       "2  {'id': 4518603, 'project_id': 4518603, 'state'...      False   \n",
       "3  {'id': 4521089, 'project_id': 4521089, 'state'...      False   \n",
       "4  {'id': 4519929, 'project_id': 4519929, 'state'...      False   \n",
       "\n",
       "                                                urls   \n",
       "0  {'web': {'project': 'https://www.kickstarter.c...  \\\n",
       "1  {'web': {'project': 'https://www.kickstarter.c...   \n",
       "2  {'web': {'project': 'https://www.kickstarter.c...   \n",
       "3  {'web': {'project': 'https://www.kickstarter.c...   \n",
       "4  {'web': {'project': 'https://www.kickstarter.c...   \n",
       "\n",
       "                                          source_url  friends  is_starred   \n",
       "0  https://www.kickstarter.com/discover/categorie...      NaN         NaN  \\\n",
       "1  https://www.kickstarter.com/discover/categorie...      NaN         NaN   \n",
       "2  https://www.kickstarter.com/discover/categorie...      NaN         NaN   \n",
       "3  https://www.kickstarter.com/discover/categorie...      NaN         NaN   \n",
       "4  https://www.kickstarter.com/discover/categorie...      NaN         NaN   \n",
       "\n",
       "   is_backing  permissions  \n",
       "0         NaN          NaN  \n",
       "1         NaN          NaN  \n",
       "2         NaN          NaN  \n",
       "3         NaN          NaN  \n",
       "4         NaN          NaN  \n",
       "\n",
       "[5 rows x 39 columns]"
      ]
     },
     "execution_count": 2,
     "metadata": {},
     "output_type": "execute_result"
    }
   ],
   "source": [
    "#creating the dataset\n",
    "train_data = pd.DataFrame(actual_data)\n",
    "train_data.head()"
   ]
  },
  {
   "cell_type": "code",
   "execution_count": 3,
   "metadata": {},
   "outputs": [
    {
     "name": "stdout",
     "output_type": "stream",
     "text": [
      "The features of this dataset are:  Index(['id', 'photo', 'name', 'blurb', 'goal', 'pledged', 'state', 'slug',\n",
      "       'disable_communication', 'country', 'country_displayable_name',\n",
      "       'currency', 'currency_symbol', 'currency_trailing_code', 'deadline',\n",
      "       'state_changed_at', 'created_at', 'launched_at', 'staff_pick',\n",
      "       'is_starrable', 'backers_count', 'static_usd_rate', 'usd_pledged',\n",
      "       'converted_pledged_amount', 'fx_rate', 'usd_exchange_rate',\n",
      "       'current_currency', 'usd_type', 'creator', 'location', 'category',\n",
      "       'profile', 'spotlight', 'urls', 'source_url', 'friends', 'is_starred',\n",
      "       'is_backing', 'permissions'],\n",
      "      dtype='object')\n",
      " \n",
      " \n",
      " blurb:  Live camera installed inside an actual driving school \n",
      " \n",
      "  location:  {'id': 2363796, 'name': 'Beverly Hills', 'slug': 'beverly-hills-ca', 'short_name': 'Beverly Hills, CA', 'displayable_name': 'Beverly Hills, CA', 'localized_name': 'Beverly Hills', 'country': 'US', 'state': 'CA', 'type': 'Town', 'is_root': False, 'expanded_country': 'United States', 'urls': {'web': {'discover': 'https://www.kickstarter.com/discover/places/beverly-hills-ca', 'location': 'https://www.kickstarter.com/locations/beverly-hills-ca'}, 'api': {'nearby_projects': 'https://api.kickstarter.com/v1/discover?signature=1671131424.7dadba4f2fadc4b0b45e3bfce93a67975f2789a9&woe_id=2363796'}}} \n",
      " \n",
      "  category:  {'id': 292, 'name': 'Comedy', 'analytics_name': 'Comedy', 'slug': 'film & video/comedy', 'position': 3, 'parent_id': 11, 'parent_name': 'Film & Video', 'color': 16734574, 'urls': {'web': {'discover': 'http://www.kickstarter.com/discover/categories/film%20&%20video/comedy'}}} \n",
      " \n",
      "  profile:  {'id': 4465571, 'project_id': 4465571, 'state': 'inactive', 'state_changed_at': 1661625074, 'name': None, 'blurb': None, 'background_color': None, 'text_color': None, 'link_background_color': None, 'link_text_color': None, 'link_text': None, 'link_url': None, 'show_feature_image': False, 'background_image_opacity': 0.8, 'should_show_feature_image_section': True, 'feature_image_attributes': {'image_urls': {'default': 'https://ksr-ugc.imgix.net/assets/038/408/400/93382a88c9dbc1af95992c496abd38e7_original.jpeg?ixlib=rb-4.0.2&crop=faces&w=1552&h=873&fit=crop&v=1661625239&auto=format&frame=1&q=92&s=04b08346a71d90b32a7cbb28be0972c2', 'baseball_card': 'https://ksr-ugc.imgix.net/assets/038/408/400/93382a88c9dbc1af95992c496abd38e7_original.jpeg?ixlib=rb-4.0.2&crop=faces&w=560&h=315&fit=crop&v=1661625239&auto=format&frame=1&q=92&s=c8db7a1b2282afbd6c85813346d69682'}}}\n"
     ]
    }
   ],
   "source": [
    "#exploring some of the features\n",
    "print(\"The features of this dataset are: \", train_data.keys())\n",
    "print(\" \\n \\n blurb: \", train_data[\"blurb\"][0], \"\\n \\n \", \"location: \", train_data[\"location\"][0], \"\\n \\n \", \"category: \", train_data[\"category\"][0], \"\\n \\n \", \"profile: \", train_data[\"profile\"][0])"
   ]
  },
  {
   "cell_type": "code",
   "execution_count": 4,
   "metadata": {},
   "outputs": [
    {
     "data": {
      "text/plain": [
       "{'id': 4465571,\n",
       " 'project_id': 4465571,\n",
       " 'state': 'inactive',\n",
       " 'state_changed_at': 1661625074,\n",
       " 'name': None,\n",
       " 'blurb': None,\n",
       " 'background_color': None,\n",
       " 'text_color': None,\n",
       " 'link_background_color': None,\n",
       " 'link_text_color': None,\n",
       " 'link_text': None,\n",
       " 'link_url': None,\n",
       " 'show_feature_image': False,\n",
       " 'background_image_opacity': 0.8,\n",
       " 'should_show_feature_image_section': True,\n",
       " 'feature_image_attributes': {'image_urls': {'default': 'https://ksr-ugc.imgix.net/assets/038/408/400/93382a88c9dbc1af95992c496abd38e7_original.jpeg?ixlib=rb-4.0.2&crop=faces&w=1552&h=873&fit=crop&v=1661625239&auto=format&frame=1&q=92&s=04b08346a71d90b32a7cbb28be0972c2',\n",
       "   'baseball_card': 'https://ksr-ugc.imgix.net/assets/038/408/400/93382a88c9dbc1af95992c496abd38e7_original.jpeg?ixlib=rb-4.0.2&crop=faces&w=560&h=315&fit=crop&v=1661625239&auto=format&frame=1&q=92&s=c8db7a1b2282afbd6c85813346d69682'}}}"
      ]
     },
     "execution_count": 4,
     "metadata": {},
     "output_type": "execute_result"
    }
   ],
   "source": [
    "#writing a function to create the final dataset\n",
    "def clean_concat(list_of_datasets):\n",
    "    data_frames=[]\n",
    "    for dataset in list_of_datasets:\n",
    "        dataset = pd.read_json(dataset, lines=True)\n",
    "        actual_data = [dataset[\"data\"][k] for k in range(len(dataset))]\n",
    "        data_frames.append(pd.DataFrame(actual_data))\n",
    "    final_dataset = pd.concat([data for data in data_frames])\n",
    "    return(final_dataset)\n",
    "\n",
    "training_df = train_data\n",
    "\n",
    "#let's decide which columns should be dropped\n",
    "training_df[\"photo\"][0] #should probably be dropped for now\n",
    "training_df[\"state\"][0] #our label \n",
    "training_df[\"urls\"][0] #should probably be dropped \n",
    "training_df[\"currency\"][10] #should be dropped because \"currency_symbol\" contains the same information\n",
    "training_df[\"source_url\"][200] #should probably be dropped for now \n",
    "training_df[\"friends\"][1600] #should check if only contains NaNs\n",
    "training_df[\"permissions\"][1000] #should check if only contains NaNs\n",
    "\n",
    "#modify the clean_concat function to drop some columns\n",
    "def clean_concat_drop(list_of_datasets, list_of_columns):\n",
    "    data_frames=[]\n",
    "    for dataset in list_of_datasets:\n",
    "        dataset = pd.read_json(dataset, lines=True)\n",
    "        actual_data = [dataset[\"data\"][k] for k in range(len(dataset))]\n",
    "        data_frames.append(pd.DataFrame(actual_data))\n",
    "    final_dataset = pd.concat([data for data in data_frames])\n",
    "    final_dataset = final_dataset.drop(list_of_columns)\n",
    "    return(final_dataset)\n",
    "\n",
    "#dropping some useless features for now\n",
    "training_df = training_df.drop([\"photo\", \"urls\", \"currency\", \"source_url\" ], axis=1)\n",
    "\n",
    "training_df[\"profile\"][0]"
   ]
  },
  {
   "cell_type": "code",
   "execution_count": 5,
   "metadata": {},
   "outputs": [],
   "source": [
    "#Let's try a first model with less features\n",
    "training_df = training_df.drop(\"country_displayable_name\", axis=1)\n",
    "training_df = training_df.drop([\"is_backing\", \"is_starred\", \"spotlight\", \"friends\", \"permissions\", \"disable_communication\"], axis=1)\n",
    "\n",
    "#only keeping the name of the city in the location\n",
    "training_df[\"location\"] = [training_df[\"location\"][k][\"name\"] if type(training_df[\"location\"][k]) is dict else 'nan' for k in range(len(training_df)) ]\n",
    "\n",
    "# convert the 'profile' column to a string representation of the dictionary\n",
    "training_df['profile_str'] = training_df['profile'].apply(json.dumps)\n",
    "\n",
    "# group the dataframe by the creator id and get all the project ids associated with them\n",
    "previous_launchers = training_df.groupby('profile_str')['id'].apply(list)\n",
    "\n",
    "# create a dictionary to map project ids to creator ids\n",
    "project_to_creator = training_df.set_index('id')['profile'].apply(lambda x: x['id']).to_dict()\n",
    "\n",
    "# create a new column that checks if the creator has launched any other projects\n",
    "training_df['previous_launcher'] = training_df['id'].apply(lambda x: True if project_to_creator[x] in previous_launchers.values else False)\n",
    "\n",
    "# drop the temporary 'profile_str' column\n",
    "training_df = training_df.drop('profile_str', axis=1)\n"
   ]
  },
  {
   "attachments": {},
   "cell_type": "markdown",
   "metadata": {},
   "source": [
    "# Feature engineering"
   ]
  },
  {
   "cell_type": "code",
   "execution_count": 6,
   "metadata": {},
   "outputs": [],
   "source": [
    "training_df[\"creator\"][0]\n",
    "\n",
    "# extract 'name' and 'is_superbacker' from the 'creator' column\n",
    "training_df['is_superbacker'] = training_df['creator'].apply(lambda x: x.get('is_superbacker'))\n",
    "training_df['creator'] = training_df['creator'].apply(lambda x: x.get('name'))\n",
    "\n",
    "# pledge per backer\n",
    "training_df['pledge_per_backer'] = np.where(training_df['backers_count'] == 0, 0, training_df['pledged'] / training_df['backers_count'])\n",
    "training_df = training_df.drop(['pledged', 'backers_count', 'currency_trailing_code'], axis=1)\n",
    "\n",
    "training_df = training_df.drop([ 'is_starrable'], axis=1)\n",
    "training_df = training_df.drop([ 'fx_rate'], axis=1)\n",
    "\n",
    "#convert the goal to USD\n",
    "training_df['goal_usd'] = training_df['goal'] * training_df['static_usd_rate']\n",
    "training_df['goal_usd'] = training_df['goal_usd'].astype(float)\n",
    "training_df['usd_pledged'] = training_df['usd_pledged'].astype(float)\n",
    "\n",
    "#percentage of success of the campaign\n",
    "training_df['percentage of success'] = (training_df['usd_pledged'] / training_df['goal_usd']) * 100\n",
    "\n",
    "#currency\n",
    "training_df['original_currency'] = training_df['currency_symbol']\n",
    "training_df = training_df.drop(['currency_symbol'], axis = 1)\n",
    "\n",
    "#drop unnecessary columns\n",
    "training_df = training_df.drop([ 'profile', 'state_changed_at', 'static_usd_rate', 'converted_pledged_amount', 'usd_exchange_rate', 'current_currency', 'usd_type'], axis=1)\n",
    "\n",
    "# extract 'slug' and 'color' from category and create new columns\n",
    "training_df['campaign_color'] = training_df['category'].apply(lambda x: x['color'])\n",
    "training_df['category'] = training_df['category'].apply(lambda x: x['slug'])\n"
   ]
  },
  {
   "attachments": {},
   "cell_type": "markdown",
   "metadata": {},
   "source": [
    "# Exploratory Data Analysis"
   ]
  },
  {
   "cell_type": "code",
   "execution_count": 7,
   "metadata": {},
   "outputs": [
    {
     "data": {
      "image/png": "[encoded data removed]",
      "text/plain": [
       "<Figure size 1296x720 with 1 Axes>"
      ]
     },
     "metadata": {},
     "output_type": "display_data"
    }
   ],
   "source": [
    "#process the location into onel single string\n",
    "#training_df[\"location\"]= training_df[\"location\"].apply(lambda x : str(''.join(x)))\n",
    "training_df[\"original_currency\"] = training_df[\"original_currency\"].apply(lambda x : str(x))\n",
    "\n",
    "#propress the list features into string\n",
    "training_df['country'] = training_df['country'].apply(lambda x: str(x))\n",
    "training_df['category'] = training_df['category'].apply(lambda x: str(x))\n",
    "\n",
    "# Encode the categorical features as integers\n",
    "le = LabelEncoder()\n",
    "#training_df['state'] = le.fit_transform(training_df['state'])\n",
    "#training_df['country'] = le.fit_transform(training_df['country'])\n",
    "#training_df['category'] = le.fit_transform(training_df['category'])\n",
    "#training_df[\"location\"] = le.fit_transform(training_df[\"location\"])\n",
    "#training_df[\"original_currency\"] = le.fit_transform(training_df[\"original_currency\"])\n",
    "\n",
    "\n",
    "eda_data = training_df.groupby('country')['state'].value_counts().reset_index(name='count')\n",
    "sns.barplot(x='state', y='count', hue='country', data=eda_data, capsize=20)\n",
    "\n",
    "plt.gca().set_title('State Counts by Country', fontsize=20)\n",
    "plt.gca().set_xlabel('State', fontsize=14)\n",
    "plt.gca().set_ylabel('Count', fontsize=14)\n",
    "plt.show()"
   ]
  },
  {
   "cell_type": "code",
   "execution_count": 8,
   "metadata": {},
   "outputs": [
    {
     "data": {
      "image/png": "[encoded data removed]",
      "text/plain": [
       "<Figure size 1296x720 with 1 Axes>"
      ]
     },
     "metadata": {},
     "output_type": "display_data"
    }
   ],
   "source": [
    "# filter out rows where 'country' is 'us'\n",
    "filtered_df = training_df[training_df['country']!=\"['us']\"]\n",
    "\n",
    "# group the filtered data by country and state, and count the occurrences of each state for each country\n",
    "grouped_df = filtered_df.groupby(['country', 'state']).size().reset_index(name='count')\n",
    "\n",
    "# plot the state counts for each country separately using a barplot\n",
    "sns.barplot(x='state', y='count', hue='country', data=grouped_df)\n",
    "\n",
    "plt.gca().set_title('State Counts by Country Excluding USA', fontsize=20)\n",
    "plt.gca().set_xlabel('State', fontsize=14)\n",
    "plt.gca().set_ylabel('Count', fontsize=14)\n",
    "plt.show()\n"
   ]
  },
  {
   "attachments": {},
   "cell_type": "markdown",
   "metadata": {},
   "source": [
    "# Dealing with text data\n",
    "### Changing to lowercase, remove punctuation, digits, make slug nicer, etc"
   ]
  },
  {
   "cell_type": "code",
   "execution_count": 9,
   "metadata": {},
   "outputs": [],
   "source": [
    "# Remove '-'\n",
    "training_df['slug'] = training_df['slug'].apply(lambda x: x.replace(\"-\", \" \" ))\n",
    "\n",
    "# lowercase\n",
    "training_df[['name','blurb','slug', 'country', 'creator', 'location', 'category']] = training_df[['name','blurb','slug', 'country', 'creator', 'location', 'category']].applymap(str.lower)\n",
    "\n",
    "#Remove Punctation\n",
    "\n",
    "\n",
    "#You can get this function from our discussion session code. However, we leave it as a blank for a practice.\n",
    "def remove_punctuation(document):\n",
    "\n",
    "    no_punct = ''.join([character for character in document if character not in punctuation])\n",
    "    \n",
    "    return no_punct\n",
    "\n",
    "training_df[['name','blurb','slug', 'country', 'creator', 'location', 'category']] = training_df[['name','blurb','slug', 'country', 'creator', 'location', 'category']].applymap(remove_punctuation)\n",
    "\n",
    "#Remove Digits \n",
    "\n",
    "def remove_digit(document): \n",
    "    \n",
    "    no_digit = ''.join([character for character in document if not character.isdigit()])\n",
    "              \n",
    "    return no_digit\n",
    "\n",
    "training_df[['name','blurb','slug', 'country', 'creator', 'location', 'category']] = training_df[['name','blurb','slug', 'country', 'creator', 'location', 'category']].applymap(remove_digit)\n",
    "\n",
    "training_data = training_df.copy()"
   ]
  },
  {
   "attachments": {},
   "cell_type": "markdown",
   "metadata": {},
   "source": [
    "### Generating embeddings"
   ]
  },
  {
   "cell_type": "code",
   "execution_count": 10,
   "metadata": {},
   "outputs": [
    {
     "name": "stdout",
     "output_type": "stream",
     "text": [
      "(6967, 16863)\n"
     ]
    },
    {
     "name": "stderr",
     "output_type": "stream",
     "text": [
      "/Users/zackbrodtman/miniforge3/lib/python3.9/site-packages/sklearn/utils/deprecation.py:87: FutureWarning: Function get_feature_names is deprecated; get_feature_names is deprecated in 1.0 and will be removed in 1.2. Please use get_feature_names_out instead.\n",
      "  warnings.warn(msg, category=FutureWarning)\n"
     ]
    },
    {
     "data": {
      "text/html": [
       "<div>\n",
       "<style scoped>\n",
       "    .dataframe tbody tr th:only-of-type {\n",
       "        vertical-align: middle;\n",
       "    }\n",
       "\n",
       "    .dataframe tbody tr th {\n",
       "        vertical-align: top;\n",
       "    }\n",
       "\n",
       "    .dataframe thead th {\n",
       "        text-align: right;\n",
       "    }\n",
       "</style>\n",
       "<table border=\"1\" class=\"dataframe\">\n",
       "  <thead>\n",
       "    <tr style=\"text-align: right;\">\n",
       "      <th></th>\n",
       "      <th>aac</th>\n",
       "      <th>aangevuld</th>\n",
       "      <th>aar</th>\n",
       "      <th>aaron</th>\n",
       "      <th>aarspi</th>\n",
       "      <th>abalone</th>\n",
       "      <th>abandon</th>\n",
       "      <th>abandoned</th>\n",
       "      <th>abandonment</th>\n",
       "      <th>abbandono</th>\n",
       "      <th>...</th>\n",
       "      <th>九岡望によるオリジナルフィギュア</th>\n",
       "      <th>剣舞人</th>\n",
       "      <th>在家享受蔡菜館美食</th>\n",
       "      <th>忘れたくない本のほん</th>\n",
       "      <th>新しい書き味のつけペン</th>\n",
       "      <th>月雨</th>\n",
       "      <th>現代の家族の形について考えた映画</th>\n",
       "      <th>粵語文學期刊</th>\n",
       "      <th>航空機品質の加工技術で作られた</th>\n",
       "      <th>首個為公義發聲嘅廣東話電台</th>\n",
       "    </tr>\n",
       "  </thead>\n",
       "  <tbody>\n",
       "    <tr>\n",
       "      <th>0</th>\n",
       "      <td>0</td>\n",
       "      <td>0</td>\n",
       "      <td>0</td>\n",
       "      <td>0</td>\n",
       "      <td>0</td>\n",
       "      <td>0</td>\n",
       "      <td>0</td>\n",
       "      <td>0</td>\n",
       "      <td>0</td>\n",
       "      <td>0</td>\n",
       "      <td>...</td>\n",
       "      <td>0</td>\n",
       "      <td>0</td>\n",
       "      <td>0</td>\n",
       "      <td>0</td>\n",
       "      <td>0</td>\n",
       "      <td>0</td>\n",
       "      <td>0</td>\n",
       "      <td>0</td>\n",
       "      <td>0</td>\n",
       "      <td>0</td>\n",
       "    </tr>\n",
       "    <tr>\n",
       "      <th>1</th>\n",
       "      <td>0</td>\n",
       "      <td>0</td>\n",
       "      <td>0</td>\n",
       "      <td>0</td>\n",
       "      <td>0</td>\n",
       "      <td>0</td>\n",
       "      <td>0</td>\n",
       "      <td>0</td>\n",
       "      <td>0</td>\n",
       "      <td>0</td>\n",
       "      <td>...</td>\n",
       "      <td>0</td>\n",
       "      <td>0</td>\n",
       "      <td>0</td>\n",
       "      <td>0</td>\n",
       "      <td>0</td>\n",
       "      <td>0</td>\n",
       "      <td>0</td>\n",
       "      <td>0</td>\n",
       "      <td>0</td>\n",
       "      <td>0</td>\n",
       "    </tr>\n",
       "    <tr>\n",
       "      <th>2</th>\n",
       "      <td>0</td>\n",
       "      <td>0</td>\n",
       "      <td>0</td>\n",
       "      <td>0</td>\n",
       "      <td>0</td>\n",
       "      <td>0</td>\n",
       "      <td>0</td>\n",
       "      <td>0</td>\n",
       "      <td>0</td>\n",
       "      <td>0</td>\n",
       "      <td>...</td>\n",
       "      <td>0</td>\n",
       "      <td>0</td>\n",
       "      <td>0</td>\n",
       "      <td>0</td>\n",
       "      <td>0</td>\n",
       "      <td>0</td>\n",
       "      <td>0</td>\n",
       "      <td>0</td>\n",
       "      <td>0</td>\n",
       "      <td>0</td>\n",
       "    </tr>\n",
       "    <tr>\n",
       "      <th>3</th>\n",
       "      <td>0</td>\n",
       "      <td>0</td>\n",
       "      <td>0</td>\n",
       "      <td>0</td>\n",
       "      <td>0</td>\n",
       "      <td>0</td>\n",
       "      <td>0</td>\n",
       "      <td>0</td>\n",
       "      <td>0</td>\n",
       "      <td>0</td>\n",
       "      <td>...</td>\n",
       "      <td>0</td>\n",
       "      <td>0</td>\n",
       "      <td>0</td>\n",
       "      <td>0</td>\n",
       "      <td>0</td>\n",
       "      <td>0</td>\n",
       "      <td>0</td>\n",
       "      <td>0</td>\n",
       "      <td>0</td>\n",
       "      <td>0</td>\n",
       "    </tr>\n",
       "    <tr>\n",
       "      <th>4</th>\n",
       "      <td>0</td>\n",
       "      <td>0</td>\n",
       "      <td>0</td>\n",
       "      <td>0</td>\n",
       "      <td>0</td>\n",
       "      <td>0</td>\n",
       "      <td>0</td>\n",
       "      <td>0</td>\n",
       "      <td>0</td>\n",
       "      <td>0</td>\n",
       "      <td>...</td>\n",
       "      <td>0</td>\n",
       "      <td>0</td>\n",
       "      <td>0</td>\n",
       "      <td>0</td>\n",
       "      <td>0</td>\n",
       "      <td>0</td>\n",
       "      <td>0</td>\n",
       "      <td>0</td>\n",
       "      <td>0</td>\n",
       "      <td>0</td>\n",
       "    </tr>\n",
       "  </tbody>\n",
       "</table>\n",
       "<p>5 rows × 16863 columns</p>\n",
       "</div>"
      ],
      "text/plain": [
       "   aac  aangevuld  aar  aaron  aarspi  abalone  abandon  abandoned   \n",
       "0    0          0    0      0       0        0        0          0  \\\n",
       "1    0          0    0      0       0        0        0          0   \n",
       "2    0          0    0      0       0        0        0          0   \n",
       "3    0          0    0      0       0        0        0          0   \n",
       "4    0          0    0      0       0        0        0          0   \n",
       "\n",
       "   abandonment  abbandono  ...  九岡望によるオリジナルフィギュア  剣舞人  在家享受蔡菜館美食  忘れたくない本のほん   \n",
       "0            0          0  ...                 0    0          0           0  \\\n",
       "1            0          0  ...                 0    0          0           0   \n",
       "2            0          0  ...                 0    0          0           0   \n",
       "3            0          0  ...                 0    0          0           0   \n",
       "4            0          0  ...                 0    0          0           0   \n",
       "\n",
       "   新しい書き味のつけペン  月雨  現代の家族の形について考えた映画  粵語文學期刊  航空機品質の加工技術で作られた  首個為公義發聲嘅廣東話電台  \n",
       "0            0   0                 0       0                0              0  \n",
       "1            0   0                 0       0                0              0  \n",
       "2            0   0                 0       0                0              0  \n",
       "3            0   0                 0       0                0              0  \n",
       "4            0   0                 0       0                0              0  \n",
       "\n",
       "[5 rows x 16863 columns]"
      ]
     },
     "execution_count": 10,
     "metadata": {},
     "output_type": "execute_result"
    }
   ],
   "source": [
    "# Remove live or cancelled rows\n",
    "training_data = training_data.drop(training_data[(training_data['state']=='live')|(training_data['state']=='canceled')|(training_data['state']=='submitted')|(training_data['state']=='started')].index, axis =0)\n",
    "\n",
    "# Remove null values\n",
    "pd.isnull(training_data).sum()\n",
    "nans=np.nonzero(list(training_data['usd_pledged'].isnull()))[0]\n",
    "training_data = training_data.drop(list(nans))\n",
    "\n",
    "# Remove empty column\n",
    "training_data = training_data.drop(['is_superbacker'], axis = 1)\n",
    "\n",
    "# Count vectorization of text\n",
    "\n",
    "# Blurb data\n",
    "corpus = training_data['blurb'].values\n",
    "\n",
    "# Creating the vectorizer\n",
    "vectorizer = CountVectorizer(stop_words='english')\n",
    "\n",
    "# Converting the text to numeric data\n",
    "X = vectorizer.fit_transform(corpus)\n",
    "\n",
    "#print(vectorizer.get_feature_names())\n",
    "\n",
    "# Preparing Data frame For machine learning\n",
    "# Priority column acts as a target variable and other columns as predictors\n",
    "CountVectorizedData=pd.DataFrame(X.toarray(), columns=vectorizer.get_feature_names())\n",
    "CountVectorizedData['state']=list(training_data['state'])\n",
    "print(CountVectorizedData.shape)\n",
    "CountVectorizedData.head()\n"
   ]
  },
  {
   "attachments": {},
   "cell_type": "markdown",
   "metadata": {},
   "source": [
    "### Generating embedding - change path for where your copy of word2vec is stored\n"
   ]
  },
  {
   "cell_type": "code",
   "execution_count": 11,
   "metadata": {},
   "outputs": [
    {
     "name": "stderr",
     "output_type": "stream",
     "text": [
      "/Users/zackbrodtman/miniforge3/lib/python3.9/site-packages/sklearn/utils/deprecation.py:87: FutureWarning: Function get_feature_names is deprecated; get_feature_names is deprecated in 1.0 and will be removed in 1.2. Please use get_feature_names_out instead.\n",
      "  warnings.warn(msg, category=FutureWarning)\n"
     ]
    },
    {
     "data": {
      "text/plain": [
       "(6967, 300)"
      ]
     },
     "execution_count": 11,
     "metadata": {},
     "output_type": "execute_result"
    }
   ],
   "source": [
    "\n",
    "\n",
    "# Using Google's model\n",
    "GoogleModel = gensim.models.KeyedVectors.load_word2vec_format('/Users/zackbrodtman/Documents/cal/242/GoogleNews-vectors-negative300.bin', binary=True,)\n",
    "#GoogleModel = gensim.models.KeyedVectors.load_word2vec_format('/Users/mehdibadri/Downloads/GoogleNews-vectors-negative300.bin', binary=True)\n",
    "\n",
    "# Creating the list of words which are present in the Document term matrix\n",
    "WordsVocab=CountVectorizedData.drop(['state'], axis =1).columns\n",
    "\n",
    "# Defining a function which takes text input and returns one vector for each sentence\n",
    "def FunctionText2Vec(inpTextData):\n",
    "    # Converting the text to numeric data\n",
    "    X = vectorizer.transform(inpTextData)\n",
    "    CountVecData=pd.DataFrame(X.toarray(), columns=vectorizer.get_feature_names()).drop(['state'], axis = 1)\n",
    "    \n",
    "    # Creating empty dataframe to hold sentences\n",
    "    W2Vec_Data=pd.DataFrame()\n",
    "    \n",
    "    # Looping through each row for the data\n",
    "    for i in range(CountVecData.shape[0]):\n",
    "\n",
    "        # initiating a sentence with all zeros\n",
    "        Sentence = np.zeros(300)\n",
    "\n",
    "        # Looping thru each word in the sentence and if its present in \n",
    "        # the Word2Vec model then storing its vector\n",
    "        for word in WordsVocab[CountVecData.iloc[i , :]>=1]:\n",
    "            #print(word)\n",
    "            if word in GoogleModel.key_to_index.keys():    \n",
    "                Sentence=Sentence+GoogleModel[word]\n",
    "        # Appending the sentence to the dataframe\n",
    "        W2Vec_Data= pd.concat([W2Vec_Data, pd.DataFrame([Sentence])], ignore_index=True)\n",
    "    return(W2Vec_Data)\n",
    "\n",
    "# Calling the function to convert all the text data to Word2Vec Vectors\n",
    "W2Vec_Data=FunctionText2Vec(training_data['blurb'])\n",
    "\n",
    "# Checking the new representation for sentences\n",
    "W2Vec_Data.shape"
   ]
  },
  {
   "cell_type": "code",
   "execution_count": 12,
   "metadata": {},
   "outputs": [],
   "source": [
    "# Adding the target variable\n",
    "W2Vec_Data.reset_index(inplace=True, drop=True)\n",
    "W2Vec_Data['state']=CountVectorizedData['state']\n",
    "\n",
    "# Assigning to DataForML variable\n",
    "DataForML=W2Vec_Data\n",
    "DataForML.head()\n",
    "\n",
    "DataForML['goal_usd'] = list(training_data['goal_usd'])\n",
    "DataForML['original_currency'] = list(training_data['original_currency'])\n",
    "DataForML['staff_pick'] = list(training_data['staff_pick'])\n",
    "DataForML['previous_launcher'] = list(training_data['previous_launcher'])\n",
    "DataForML['category'] = list(training_data['category'])\n",
    "DataForML = pd.get_dummies(DataForML, columns=['staff_pick', 'original_currency', 'previous_launcher', 'category'])\n"
   ]
  },
  {
   "cell_type": "code",
   "execution_count": 13,
   "metadata": {},
   "outputs": [
    {
     "name": "stdout",
     "output_type": "stream",
     "text": [
      "(4876, 331)\n",
      "(4876,)\n",
      "(2091, 331)\n",
      "(2091,)\n"
     ]
    }
   ],
   "source": [
    "# Separate Target Variable and Predictor Variables\n",
    "TargetVariable=DataForML['state']\n",
    "Predictors=DataForML.drop(['state'], axis =1)\n",
    "\n",
    "X=Predictors.values\n",
    "y=TargetVariable.values\n",
    "\n",
    "# Split the data into training and testing set\n",
    "X_train, X_test, y_train, y_test = train_test_split(X, y, test_size=0.3, random_state=428)\n",
    "\n",
    "# Sanity check for the sampled data\n",
    "print(X_train.shape)\n",
    "print(y_train.shape)\n",
    "print(X_test.shape)\n",
    "print(y_test.shape)"
   ]
  },
  {
   "attachments": {},
   "cell_type": "markdown",
   "metadata": {},
   "source": [
    "# Model Fitting"
   ]
  },
  {
   "attachments": {},
   "cell_type": "markdown",
   "metadata": {},
   "source": [
    "## Baseline"
   ]
  },
  {
   "cell_type": "code",
   "execution_count": 14,
   "metadata": {},
   "outputs": [
    {
     "name": "stdout",
     "output_type": "stream",
     "text": [
      "0.7676374077112387\n"
     ]
    }
   ],
   "source": [
    "y_train_binary= (y_train=='successful').astype(int)\n",
    "y_test_binary = (y_test=='successful').astype(int)\n",
    "\n",
    "print(y_train_binary.mean())"
   ]
  },
  {
   "cell_type": "code",
   "execution_count": 15,
   "metadata": {},
   "outputs": [
    {
     "name": "stdout",
     "output_type": "stream",
     "text": [
      "confusion matrix\n",
      "[[   0  486]\n",
      " [   0 1605]]\n",
      "TPR , FPR , ACC\n",
      "1.0 1.0 0.7675753228120517\n"
     ]
    }
   ],
   "source": [
    "y_pred_baseline = np.ones(len(y_test_binary)).astype(int)\n",
    "\n",
    "confusion_mat = confusion_matrix(y_test_binary, y_pred_baseline)\n",
    "\n",
    "tn , fp , fn , tp = confusion_mat.ravel()\n",
    "TPR_baseline = tp/(tp+fn)\n",
    "FPR_baseline = fp/(fp+tn)\n",
    "ACC_baseline = (tp + tn ) / (tp+tn+fp+fn)\n",
    "print('confusion matrix')\n",
    "print(confusion_mat)\n",
    "print('TPR , FPR , ACC')\n",
    "print(TPR_baseline,FPR_baseline,ACC_baseline)"
   ]
  },
  {
   "attachments": {},
   "cell_type": "markdown",
   "metadata": {},
   "source": [
    "## Logistic Regression"
   ]
  },
  {
   "cell_type": "code",
   "execution_count": 16,
   "metadata": {},
   "outputs": [
    {
     "name": "stderr",
     "output_type": "stream",
     "text": [
      "/Users/zackbrodtman/miniforge3/lib/python3.9/site-packages/scipy/optimize/linesearch.py:478: LineSearchWarning: The line search algorithm did not converge\n",
      "  warn('The line search algorithm did not converge', LineSearchWarning)\n",
      "/Users/zackbrodtman/miniforge3/lib/python3.9/site-packages/scipy/optimize/linesearch.py:327: LineSearchWarning: The line search algorithm did not converge\n",
      "  warn('The line search algorithm did not converge', LineSearchWarning)\n",
      "/Users/zackbrodtman/miniforge3/lib/python3.9/site-packages/scipy/optimize/linesearch.py:478: LineSearchWarning: The line search algorithm did not converge\n",
      "  warn('The line search algorithm did not converge', LineSearchWarning)\n",
      "/Users/zackbrodtman/miniforge3/lib/python3.9/site-packages/scipy/optimize/linesearch.py:327: LineSearchWarning: The line search algorithm did not converge\n",
      "  warn('The line search algorithm did not converge', LineSearchWarning)\n",
      "/Users/zackbrodtman/miniforge3/lib/python3.9/site-packages/sklearn/utils/optimize.py:210: ConvergenceWarning: newton-cg failed to converge. Increase the number of iterations.\n",
      "  warnings.warn(\n"
     ]
    },
    {
     "name": "stdout",
     "output_type": "stream",
     "text": [
      "          0         1         2         3         4         5         6   \n",
      "0  0.887695   0.11731 -0.716431  0.695312  0.082031  0.161743  1.369181  \\\n",
      "1  0.655502   0.19342  0.511963  0.835571 -0.248047 -0.150879  0.062012   \n",
      "2  0.180176 -0.406128 -0.281555   1.26709  0.077271  0.287109  1.292725   \n",
      "3  0.964355  2.030945  0.003662   0.62146 -0.482605  0.599365 -0.363586   \n",
      "4  0.614258  0.632019 -1.073486   1.09314 -0.130249 -0.225952  0.231491   \n",
      "\n",
      "          7         8         9  ... category_journalismphoto   \n",
      "0  0.206665  0.981445  0.775513  ...                    False  \\\n",
      "1 -0.898499  0.365723  0.330811  ...                    False   \n",
      "2 -1.126099  0.766968  0.208984  ...                    False   \n",
      "3 -1.140961 -0.521484  1.665283  ...                    False   \n",
      "4  0.289581  0.671387  0.098755  ...                    False   \n",
      "\n",
      "  category_musicrb category_publishingletterpress   \n",
      "0            False                          False  \\\n",
      "1            False                          False   \n",
      "2            False                           True   \n",
      "3            False                          False   \n",
      "4            False                          False   \n",
      "\n",
      "  category_publishingliterary journals category_publishingliterary spaces   \n",
      "0                                False                              False  \\\n",
      "1                                False                              False   \n",
      "2                                False                              False   \n",
      "3                                False                              False   \n",
      "4                                False                              False   \n",
      "\n",
      "  category_technologysound category_theaterplays category_theaterspaces   \n",
      "0                    False                 False                  False  \\\n",
      "1                    False                 False                  False   \n",
      "2                    False                 False                  False   \n",
      "3                    False                 False                  False   \n",
      "4                    False                 False                  False   \n",
      "\n",
      "     Survived Predicted_Survived  \n",
      "0  successful             failed  \n",
      "1  successful         successful  \n",
      "2      failed         successful  \n",
      "3  successful         successful  \n",
      "4  successful         successful  \n",
      "\n",
      "[5 rows x 333 columns]\n",
      "              precision    recall  f1-score   support\n",
      "\n",
      "      failed       0.69      0.67      0.68       486\n",
      "  successful       0.90      0.91      0.90      1605\n",
      "\n",
      "    accuracy                           0.85      2091\n",
      "   macro avg       0.79      0.79      0.79      2091\n",
      "weighted avg       0.85      0.85      0.85      2091\n",
      "\n",
      "[[ 328  150]\n",
      " [ 158 1455]]\n",
      "Accuracy of the model on Testing Sample Data: 0.85\n"
     ]
    },
    {
     "name": "stderr",
     "output_type": "stream",
     "text": [
      "/Users/zackbrodtman/miniforge3/lib/python3.9/site-packages/scipy/optimize/linesearch.py:478: LineSearchWarning: The line search algorithm did not converge\n",
      "  warn('The line search algorithm did not converge', LineSearchWarning)\n",
      "/Users/zackbrodtman/miniforge3/lib/python3.9/site-packages/scipy/optimize/linesearch.py:327: LineSearchWarning: The line search algorithm did not converge\n",
      "  warn('The line search algorithm did not converge', LineSearchWarning)\n",
      "/Users/zackbrodtman/miniforge3/lib/python3.9/site-packages/scipy/optimize/linesearch.py:478: LineSearchWarning: The line search algorithm did not converge\n",
      "  warn('The line search algorithm did not converge', LineSearchWarning)\n",
      "/Users/zackbrodtman/miniforge3/lib/python3.9/site-packages/scipy/optimize/linesearch.py:327: LineSearchWarning: The line search algorithm did not converge\n",
      "  warn('The line search algorithm did not converge', LineSearchWarning)\n",
      "/Users/zackbrodtman/miniforge3/lib/python3.9/site-packages/scipy/optimize/linesearch.py:478: LineSearchWarning: The line search algorithm did not converge\n",
      "  warn('The line search algorithm did not converge', LineSearchWarning)\n",
      "/Users/zackbrodtman/miniforge3/lib/python3.9/site-packages/scipy/optimize/linesearch.py:327: LineSearchWarning: The line search algorithm did not converge\n",
      "  warn('The line search algorithm did not converge', LineSearchWarning)\n",
      "/Users/zackbrodtman/miniforge3/lib/python3.9/site-packages/sklearn/utils/optimize.py:210: ConvergenceWarning: newton-cg failed to converge. Increase the number of iterations.\n",
      "  warnings.warn(\n",
      "/Users/zackbrodtman/miniforge3/lib/python3.9/site-packages/scipy/optimize/linesearch.py:478: LineSearchWarning: The line search algorithm did not converge\n",
      "  warn('The line search algorithm did not converge', LineSearchWarning)\n",
      "/Users/zackbrodtman/miniforge3/lib/python3.9/site-packages/scipy/optimize/linesearch.py:327: LineSearchWarning: The line search algorithm did not converge\n",
      "  warn('The line search algorithm did not converge', LineSearchWarning)\n",
      "/Users/zackbrodtman/miniforge3/lib/python3.9/site-packages/scipy/optimize/linesearch.py:478: LineSearchWarning: The line search algorithm did not converge\n",
      "  warn('The line search algorithm did not converge', LineSearchWarning)\n",
      "/Users/zackbrodtman/miniforge3/lib/python3.9/site-packages/scipy/optimize/linesearch.py:327: LineSearchWarning: The line search algorithm did not converge\n",
      "  warn('The line search algorithm did not converge', LineSearchWarning)\n",
      "/Users/zackbrodtman/miniforge3/lib/python3.9/site-packages/scipy/optimize/linesearch.py:478: LineSearchWarning: The line search algorithm did not converge\n",
      "  warn('The line search algorithm did not converge', LineSearchWarning)\n",
      "/Users/zackbrodtman/miniforge3/lib/python3.9/site-packages/scipy/optimize/linesearch.py:327: LineSearchWarning: The line search algorithm did not converge\n",
      "  warn('The line search algorithm did not converge', LineSearchWarning)\n",
      "/Users/zackbrodtman/miniforge3/lib/python3.9/site-packages/sklearn/utils/optimize.py:210: ConvergenceWarning: newton-cg failed to converge. Increase the number of iterations.\n",
      "  warnings.warn(\n",
      "/Users/zackbrodtman/miniforge3/lib/python3.9/site-packages/scipy/optimize/linesearch.py:478: LineSearchWarning: The line search algorithm did not converge\n",
      "  warn('The line search algorithm did not converge', LineSearchWarning)\n",
      "/Users/zackbrodtman/miniforge3/lib/python3.9/site-packages/scipy/optimize/linesearch.py:327: LineSearchWarning: The line search algorithm did not converge\n",
      "  warn('The line search algorithm did not converge', LineSearchWarning)\n",
      "/Users/zackbrodtman/miniforge3/lib/python3.9/site-packages/sklearn/utils/optimize.py:210: ConvergenceWarning: newton-cg failed to converge. Increase the number of iterations.\n",
      "  warnings.warn(\n",
      "/Users/zackbrodtman/miniforge3/lib/python3.9/site-packages/sklearn/utils/optimize.py:210: ConvergenceWarning: newton-cg failed to converge. Increase the number of iterations.\n",
      "  warnings.warn(\n",
      "/Users/zackbrodtman/miniforge3/lib/python3.9/site-packages/sklearn/utils/optimize.py:210: ConvergenceWarning: newton-cg failed to converge. Increase the number of iterations.\n",
      "  warnings.warn(\n",
      "/Users/zackbrodtman/miniforge3/lib/python3.9/site-packages/scipy/optimize/linesearch.py:478: LineSearchWarning: The line search algorithm did not converge\n",
      "  warn('The line search algorithm did not converge', LineSearchWarning)\n",
      "/Users/zackbrodtman/miniforge3/lib/python3.9/site-packages/scipy/optimize/linesearch.py:327: LineSearchWarning: The line search algorithm did not converge\n",
      "  warn('The line search algorithm did not converge', LineSearchWarning)\n",
      "/Users/zackbrodtman/miniforge3/lib/python3.9/site-packages/scipy/optimize/linesearch.py:478: LineSearchWarning: The line search algorithm did not converge\n",
      "  warn('The line search algorithm did not converge', LineSearchWarning)\n",
      "/Users/zackbrodtman/miniforge3/lib/python3.9/site-packages/scipy/optimize/linesearch.py:327: LineSearchWarning: The line search algorithm did not converge\n",
      "  warn('The line search algorithm did not converge', LineSearchWarning)\n",
      "/Users/zackbrodtman/miniforge3/lib/python3.9/site-packages/scipy/optimize/linesearch.py:478: LineSearchWarning: The line search algorithm did not converge\n",
      "  warn('The line search algorithm did not converge', LineSearchWarning)\n",
      "/Users/zackbrodtman/miniforge3/lib/python3.9/site-packages/scipy/optimize/linesearch.py:327: LineSearchWarning: The line search algorithm did not converge\n",
      "  warn('The line search algorithm did not converge', LineSearchWarning)\n",
      "/Users/zackbrodtman/miniforge3/lib/python3.9/site-packages/sklearn/utils/optimize.py:210: ConvergenceWarning: newton-cg failed to converge. Increase the number of iterations.\n",
      "  warnings.warn(\n",
      "/Users/zackbrodtman/miniforge3/lib/python3.9/site-packages/scipy/optimize/linesearch.py:478: LineSearchWarning: The line search algorithm did not converge\n",
      "  warn('The line search algorithm did not converge', LineSearchWarning)\n",
      "/Users/zackbrodtman/miniforge3/lib/python3.9/site-packages/scipy/optimize/linesearch.py:327: LineSearchWarning: The line search algorithm did not converge\n",
      "  warn('The line search algorithm did not converge', LineSearchWarning)\n",
      "/Users/zackbrodtman/miniforge3/lib/python3.9/site-packages/scipy/optimize/linesearch.py:478: LineSearchWarning: The line search algorithm did not converge\n",
      "  warn('The line search algorithm did not converge', LineSearchWarning)\n",
      "/Users/zackbrodtman/miniforge3/lib/python3.9/site-packages/scipy/optimize/linesearch.py:327: LineSearchWarning: The line search algorithm did not converge\n",
      "  warn('The line search algorithm did not converge', LineSearchWarning)\n",
      "/Users/zackbrodtman/miniforge3/lib/python3.9/site-packages/sklearn/utils/optimize.py:210: ConvergenceWarning: newton-cg failed to converge. Increase the number of iterations.\n",
      "  warnings.warn(\n",
      "/Users/zackbrodtman/miniforge3/lib/python3.9/site-packages/scipy/optimize/linesearch.py:478: LineSearchWarning: The line search algorithm did not converge\n",
      "  warn('The line search algorithm did not converge', LineSearchWarning)\n",
      "/Users/zackbrodtman/miniforge3/lib/python3.9/site-packages/scipy/optimize/linesearch.py:327: LineSearchWarning: The line search algorithm did not converge\n",
      "  warn('The line search algorithm did not converge', LineSearchWarning)\n",
      "/Users/zackbrodtman/miniforge3/lib/python3.9/site-packages/scipy/optimize/linesearch.py:478: LineSearchWarning: The line search algorithm did not converge\n",
      "  warn('The line search algorithm did not converge', LineSearchWarning)\n",
      "/Users/zackbrodtman/miniforge3/lib/python3.9/site-packages/scipy/optimize/linesearch.py:327: LineSearchWarning: The line search algorithm did not converge\n",
      "  warn('The line search algorithm did not converge', LineSearchWarning)\n",
      "/Users/zackbrodtman/miniforge3/lib/python3.9/site-packages/sklearn/utils/optimize.py:210: ConvergenceWarning: newton-cg failed to converge. Increase the number of iterations.\n",
      "  warnings.warn(\n",
      "/Users/zackbrodtman/miniforge3/lib/python3.9/site-packages/sklearn/utils/optimize.py:210: ConvergenceWarning: newton-cg failed to converge. Increase the number of iterations.\n",
      "  warnings.warn(\n"
     ]
    },
    {
     "name": "stdout",
     "output_type": "stream",
     "text": [
      "\n",
      "Accuracy values for 10-fold Cross Validation:\n",
      " [0.74974056 0.79257037 0.74208598 0.81707022 0.82377609 0.79335336\n",
      " 0.91999197 0.91483357 0.8528303  0.86240469]\n",
      "\n",
      "Final Average Accuracy of the model: 0.83\n"
     ]
    }
   ],
   "source": [
    "# Logistic Regression\n",
    "# choose parameter Penalty='l1' or C=1\n",
    "# choose different values for solver 'newton-cg', 'lbfgs', 'liblinear', 'sag', 'saga'\n",
    "clf = LogisticRegression(C=10,penalty='l2', solver='newton-cg')\n",
    "\n",
    "\n",
    "# Creating the model on Training Data\n",
    "LOG=clf.fit(X_train,y_train)\n",
    "\n",
    "# Generating predictions on testing data\n",
    "prediction=LOG.predict(X_test)\n",
    "# Printing sample values of prediction in Testing data\n",
    "TestingData=pd.DataFrame(data=X_test, columns=Predictors.columns)\n",
    "TestingData['Survived']=y_test\n",
    "TestingData['Predicted_Survived']=prediction\n",
    "print(TestingData.head())\n",
    "\n",
    "\n",
    "# Measuring accuracy on Testing Data\n",
    "print(metrics.classification_report(y_test, prediction))\n",
    "print(metrics.confusion_matrix(prediction, y_test))\n",
    "\n",
    "## Printing the Overall Accuracy of the model\n",
    "F1_Score=metrics.f1_score(y_test, prediction, average='weighted')\n",
    "print('Accuracy of the model on Testing Sample Data:', round(F1_Score,2))\n",
    "\n",
    "\n",
    "## Running 10-Fold Cross validation on a given algorithm\n",
    "## Passing full data X and y because the K-fold will split the data and automatically choose train/test\n",
    "Accuracy_Values=cross_val_score(LOG, X , y, cv=10, scoring='f1_weighted')\n",
    "print('\\nAccuracy values for 10-fold Cross Validation:\\n',Accuracy_Values)\n",
    "print('\\nFinal Average Accuracy of the model:', round(Accuracy_Values.mean(),2))\n"
   ]
  },
  {
   "attachments": {},
   "cell_type": "markdown",
   "metadata": {},
   "source": [
    "## CART"
   ]
  },
  {
   "cell_type": "code",
   "execution_count": 17,
   "metadata": {},
   "outputs": [
    {
     "name": "stdout",
     "output_type": "stream",
     "text": [
      "confusion matrix\n",
      "[[ 323  163]\n",
      " [ 185 1420]]\n",
      "TPR , FPR , ACC\n",
      "0.8847352024922118 0.33539094650205764 0.8335724533715926\n"
     ]
    }
   ],
   "source": [
    "dtc = DecisionTreeClassifier(random_state=42)\n",
    "\n",
    "dtc.fit(X_train, y_train_binary)\n",
    "\n",
    "y_pred_dtc = dtc.predict(X_test)\n",
    "\n",
    "confusion_mat = confusion_matrix(y_test_binary, y_pred_dtc)\n",
    "\n",
    "tn , fp , fn , tp = confusion_mat.ravel()\n",
    "TPR_dtc = tp/(tp+fn)\n",
    "FPR_dtc = fp/(fp+tn)\n",
    "ACC_dtc = (tp + tn ) / (tp+tn+fp+fn)\n",
    "print('confusion matrix')\n",
    "print(confusion_mat)\n",
    "print('TPR , FPR , ACC')\n",
    "print(TPR_dtc,FPR_dtc,ACC_dtc)"
   ]
  },
  {
   "cell_type": "code",
   "execution_count": 18,
   "metadata": {},
   "outputs": [
    {
     "name": "stdout",
     "output_type": "stream",
     "text": [
      "confusion matrix\n",
      "[[ 320  166]\n",
      " [ 153 1452]]\n",
      "TPR , FPR , ACC\n",
      "0.9046728971962616 0.34156378600823045 0.8474414155906265\n"
     ]
    }
   ],
   "source": [
    "dtc = DecisionTreeClassifier(criterion = 'gini', max_depth=8, random_state=42)\n",
    "\n",
    "dtc.fit(X_train, y_train_binary)\n",
    "\n",
    "y_pred_dtc = dtc.predict(X_test)\n",
    "\n",
    "confusion_mat = confusion_matrix(y_test_binary, y_pred_dtc)\n",
    "\n",
    "tn , fp , fn , tp = confusion_mat.ravel()\n",
    "TPR_dtc = tp/(tp+fn)\n",
    "FPR_dtc = fp/(fp+tn)\n",
    "ACC_dtc = (tp + tn ) / (tp+tn+fp+fn)\n",
    "print('confusion matrix')\n",
    "print(confusion_mat)\n",
    "print('TPR , FPR , ACC')\n",
    "print(TPR_dtc,FPR_dtc,ACC_dtc)"
   ]
  },
  {
   "cell_type": "code",
   "execution_count": 19,
   "metadata": {},
   "outputs": [
    {
     "data": {
      "image/png": "[encoded data removed]",
      "text/plain": [
       "<Figure size 1296x720 with 1 Axes>"
      ]
     },
     "metadata": {},
     "output_type": "display_data"
    }
   ],
   "source": [
    "L = []\n",
    "for cp in np.linspace(0,0.045,20):\n",
    "    tree_regression = DecisionTreeClassifier(criterion = 'gini', max_depth=8, random_state=42,ccp_alpha=cp)\n",
    "    L.append([cp,cross_val_score(tree_regression, X_train, y_train, cv=5).mean()])\n",
    "L=np.array(L)\n",
    "\n",
    "plt.plot(L[:,0],L[:,1])\n",
    "plt.xlabel('Complexity parameter')\n",
    "plt.ylabel('Accuracy')\n",
    "plt.show()"
   ]
  },
  {
   "cell_type": "code",
   "execution_count": 20,
   "metadata": {},
   "outputs": [
    {
     "name": "stdout",
     "output_type": "stream",
     "text": [
      "confusion matrix\n",
      "[[ 290  196]\n",
      " [ 128 1477]]\n",
      "TPR , FPR , ACC\n",
      "0.9202492211838006 0.40329218106995884 0.8450502152080345\n"
     ]
    }
   ],
   "source": [
    "cp_opt = L[:,0][np.argmax(L[:,1])]\n",
    "\n",
    "dtc = DecisionTreeClassifier(criterion = 'gini', max_depth=8, random_state=42,ccp_alpha=cp_opt)\n",
    "\n",
    "dtc.fit(X_train, y_train_binary)\n",
    "\n",
    "y_pred_dtc = dtc.predict(X_test)\n",
    "\n",
    "confusion_mat = confusion_matrix(y_test_binary, y_pred_dtc)\n",
    "\n",
    "tn , fp , fn , tp = confusion_mat.ravel()\n",
    "TPR_dtc = tp/(tp+fn)\n",
    "FPR_dtc = fp/(fp+tn)\n",
    "ACC_dtc = (tp + tn ) / (tp+tn+fp+fn)\n",
    "print('confusion matrix')\n",
    "print(confusion_mat)\n",
    "print('TPR , FPR , ACC')\n",
    "print(TPR_dtc,FPR_dtc,ACC_dtc)"
   ]
  },
  {
   "cell_type": "code",
   "execution_count": 21,
   "metadata": {},
   "outputs": [
    {
     "data": {
      "text/plain": [
       "<AxesSubplot:>"
      ]
     },
     "execution_count": 21,
     "metadata": {},
     "output_type": "execute_result"
    },
    {
     "data": {
      "image/png": "[encoded data removed]",
      "text/plain": [
       "<Figure size 1296x720 with 1 Axes>"
      ]
     },
     "metadata": {},
     "output_type": "display_data"
    }
   ],
   "source": [
    "feature_importances = pd.Series(dtc.feature_importances_, index=Predictors.columns)\n",
    "feature_importances.nlargest(10).plot(kind='barh')"
   ]
  },
  {
   "attachments": {},
   "cell_type": "markdown",
   "metadata": {},
   "source": [
    "## Random Forest"
   ]
  },
  {
   "cell_type": "code",
   "execution_count": 22,
   "metadata": {},
   "outputs": [
    {
     "name": "stdout",
     "output_type": "stream",
     "text": [
      "confusion matrix\n",
      "[[ 153  333]\n",
      " [  58 1547]]\n",
      "TPR , FPR , ACC\n",
      "0.9638629283489096 0.6851851851851852 0.8130081300813008\n"
     ]
    }
   ],
   "source": [
    "rf = RandomForestClassifier(random_state=42)\n",
    "\n",
    "rf.fit(X_train, y_train_binary)\n",
    "\n",
    "y_pred_rf = rf.predict(X_test)\n",
    "\n",
    "\n",
    "confusion_mat = confusion_matrix(y_test_binary, y_pred_rf)\n",
    "\n",
    "tn , fp , fn , tp = confusion_mat.ravel()\n",
    "TPR_rf = tp/(tp+fn)\n",
    "FPR_rf = fp/(fp+tn)\n",
    "ACC_rf = (tp + tn ) / (tp+tn+fp+fn)\n",
    "print('confusion matrix')\n",
    "print(confusion_mat)\n",
    "print('TPR , FPR , ACC')\n",
    "print(TPR_rf,FPR_rf,ACC_rf)"
   ]
  },
  {
   "cell_type": "code",
   "execution_count": 23,
   "metadata": {},
   "outputs": [
    {
     "name": "stdout",
     "output_type": "stream",
     "text": [
      "confusion matrix\n",
      "[[ 179  307]\n",
      " [  55 1550]]\n",
      "TPR , FPR , ACC\n",
      "0.9657320872274143 0.6316872427983539 0.8268770923003348\n"
     ]
    }
   ],
   "source": [
    "rf = RandomForestClassifier(n_estimators=50,random_state=42,min_samples_split=10)\n",
    "\n",
    "rf.fit(X_train, y_train_binary)\n",
    "\n",
    "y_pred_rf = rf.predict(X_test)\n",
    "\n",
    "\n",
    "confusion_mat = confusion_matrix(y_test_binary, y_pred_rf)\n",
    "\n",
    "tn , fp , fn , tp = confusion_mat.ravel()\n",
    "TPR_rf = tp/(tp+fn)\n",
    "FPR_rf = fp/(fp+tn)\n",
    "ACC_rf = (tp + tn ) / (tp+tn+fp+fn)\n",
    "print('confusion matrix')\n",
    "print(confusion_mat)\n",
    "print('TPR , FPR , ACC')\n",
    "print(TPR_rf,FPR_rf,ACC_rf)"
   ]
  },
  {
   "cell_type": "code",
   "execution_count": 24,
   "metadata": {},
   "outputs": [
    {
     "data": {
      "text/plain": [
       "<AxesSubplot:>"
      ]
     },
     "execution_count": 24,
     "metadata": {},
     "output_type": "execute_result"
    },
    {
     "data": {
      "image/png": "[encoded data removed]",
      "text/plain": [
       "<Figure size 1296x720 with 1 Axes>"
      ]
     },
     "metadata": {},
     "output_type": "display_data"
    }
   ],
   "source": [
    "feature_importances = pd.Series(rf.feature_importances_, index=Predictors.columns)\n",
    "feature_importances.nlargest(10).plot(kind='barh')"
   ]
  },
  {
   "attachments": {},
   "cell_type": "markdown",
   "metadata": {},
   "source": [
    "## XGBOOST"
   ]
  },
  {
   "cell_type": "code",
   "execution_count": 25,
   "metadata": {},
   "outputs": [
    {
     "name": "stdout",
     "output_type": "stream",
     "text": [
      "Accuracy: 87.76%\n"
     ]
    }
   ],
   "source": [
    "cl_xgb = xgb.XGBClassifier()\n",
    "\n",
    "cl_xgb.fit(X_train, y_train_binary)\n",
    "\n",
    "y_pred = cl_xgb.predict(X_test)\n",
    "\n",
    "accuracy = accuracy_score(y_test_binary, y_pred)\n",
    "print('Accuracy: %.2f%%' % (accuracy * 100.0))\n"
   ]
  },
  {
   "cell_type": "code",
   "execution_count": 26,
   "metadata": {},
   "outputs": [
    {
     "name": "stdout",
     "output_type": "stream",
     "text": [
      "Accuracy: 88.14%\n"
     ]
    }
   ],
   "source": [
    "cl_xgb = xgb.XGBClassifier(learning_rate=0.054210526315789466,max_depth=8,subsample=0.9,reg_alpha=0.1,reg_lambda=1)\n",
    "\n",
    "\n",
    "cl_xgb.fit(X_train, y_train_binary)\n",
    "\n",
    "y_pred_xgb = cl_xgb.predict(X_test)\n",
    "\n",
    "accuracy = accuracy_score(y_test_binary, y_pred_xgb)\n",
    "print('Accuracy: %.2f%%' % (accuracy * 100.0))"
   ]
  },
  {
   "cell_type": "code",
   "execution_count": 27,
   "metadata": {},
   "outputs": [
    {
     "name": "stdout",
     "output_type": "stream",
     "text": [
      "              precision    recall  f1-score   support\n",
      "\n",
      "           0       0.76      0.72      0.74       486\n",
      "           1       0.92      0.93      0.92      1605\n",
      "\n",
      "    accuracy                           0.88      2091\n",
      "   macro avg       0.84      0.83      0.83      2091\n",
      "weighted avg       0.88      0.88      0.88      2091\n",
      "\n",
      "[[ 350  136]\n",
      " [ 112 1493]]\n"
     ]
    }
   ],
   "source": [
    "print(metrics.classification_report(y_test_binary, y_pred_xgb))\n",
    "print(metrics.confusion_matrix(y_test_binary, y_pred_xgb))"
   ]
  },
  {
   "cell_type": "code",
   "execution_count": 28,
   "metadata": {},
   "outputs": [
    {
     "name": "stdout",
     "output_type": "stream",
     "text": [
      "confusion matrix\n",
      "[[ 350  136]\n",
      " [ 112 1493]]\n",
      "TPR , FPR , ACC\n",
      "0.9302180685358256 0.27983539094650206 0.8813964610234337\n"
     ]
    }
   ],
   "source": [
    "confusion_mat = confusion_matrix(y_test_binary, y_pred_xgb)\n",
    "\n",
    "tn , fp , fn , tp = confusion_mat.ravel()\n",
    "TPR_xgb = tp/(tp+fn)\n",
    "FPR_xgb = fp/(fp+tn)\n",
    "ACC_xgb = (tp + tn ) / (tp+tn+fp+fn)\n",
    "print('confusion matrix')\n",
    "print(confusion_mat)\n",
    "print('TPR , FPR , ACC')\n",
    "print(TPR_xgb,FPR_xgb,ACC_xgb)"
   ]
  },
  {
   "cell_type": "code",
   "execution_count": 29,
   "metadata": {},
   "outputs": [
    {
     "data": {
      "text/plain": [
       "<AxesSubplot:>"
      ]
     },
     "execution_count": 29,
     "metadata": {},
     "output_type": "execute_result"
    },
    {
     "data": {
      "image/png": "[encoded data removed]",
      "text/plain": [
       "<Figure size 1296x720 with 1 Axes>"
      ]
     },
     "metadata": {},
     "output_type": "display_data"
    }
   ],
   "source": [
    "feature_importances = pd.Series(cl_xgb.feature_importances_, index=Predictors.columns)\n",
    "feature_importances.nlargest(10).plot(kind='barh')"
   ]
  },
  {
   "attachments": {},
   "cell_type": "markdown",
   "metadata": {},
   "source": [
    "## Comparison"
   ]
  },
  {
   "cell_type": "code",
   "execution_count": 30,
   "metadata": {},
   "outputs": [
    {
     "data": {
      "text/html": [
       "<div>\n",
       "<style scoped>\n",
       "    .dataframe tbody tr th:only-of-type {\n",
       "        vertical-align: middle;\n",
       "    }\n",
       "\n",
       "    .dataframe tbody tr th {\n",
       "        vertical-align: top;\n",
       "    }\n",
       "\n",
       "    .dataframe thead th {\n",
       "        text-align: right;\n",
       "    }\n",
       "</style>\n",
       "<table border=\"1\" class=\"dataframe\">\n",
       "  <thead>\n",
       "    <tr style=\"text-align: right;\">\n",
       "      <th></th>\n",
       "      <th>Accuracy</th>\n",
       "      <th>TPR</th>\n",
       "      <th>FPR</th>\n",
       "    </tr>\n",
       "  </thead>\n",
       "  <tbody>\n",
       "    <tr>\n",
       "      <th>Baseline</th>\n",
       "      <td>0.767575</td>\n",
       "      <td>1.000000</td>\n",
       "      <td>1.000000</td>\n",
       "    </tr>\n",
       "    <tr>\n",
       "      <th>Decision Tree Classifier</th>\n",
       "      <td>0.845050</td>\n",
       "      <td>0.920249</td>\n",
       "      <td>0.403292</td>\n",
       "    </tr>\n",
       "    <tr>\n",
       "      <th>Random Forest</th>\n",
       "      <td>0.826877</td>\n",
       "      <td>0.965732</td>\n",
       "      <td>0.631687</td>\n",
       "    </tr>\n",
       "    <tr>\n",
       "      <th>XGBoost</th>\n",
       "      <td>0.881396</td>\n",
       "      <td>0.930218</td>\n",
       "      <td>0.279835</td>\n",
       "    </tr>\n",
       "  </tbody>\n",
       "</table>\n",
       "</div>"
      ],
      "text/plain": [
       "                          Accuracy       TPR       FPR\n",
       "Baseline                  0.767575  1.000000  1.000000\n",
       "Decision Tree Classifier  0.845050  0.920249  0.403292\n",
       "Random Forest             0.826877  0.965732  0.631687\n",
       "XGBoost                   0.881396  0.930218  0.279835"
      ]
     },
     "execution_count": 30,
     "metadata": {},
     "output_type": "execute_result"
    }
   ],
   "source": [
    "table = pd.DataFrame(columns = ['Accuracy','TPR','FPR'],index = ['Baseline','Decision Tree Classifier','Random Forest','XGBoost'])\n",
    "table['Accuracy'] = [ACC_baseline,ACC_dtc,ACC_rf,ACC_xgb]\n",
    "table['TPR'] = [TPR_baseline,TPR_dtc,TPR_rf,TPR_xgb]\n",
    "table['FPR'] = [FPR_baseline,FPR_dtc,FPR_rf,FPR_xgb]\n",
    "table"
   ]
  },
  {
   "cell_type": "code",
   "execution_count": 31,
   "metadata": {},
   "outputs": [
    {
     "data": {
      "image/png": "[encoded data removed]",
      "text/plain": [
       "<Figure size 1296x720 with 1 Axes>"
      ]
     },
     "metadata": {},
     "output_type": "display_data"
    }
   ],
   "source": [
    "dt_probs = dtc.predict_proba(X_test)[:, 1]\n",
    "rf_probs = rf.predict_proba(X_test)[:, 1]\n",
    "xgb_probs = cl_xgb.predict_proba(X_test)[:, 1]\n",
    "baseline_probs = np.ones(len(y_test))\n",
    "\n",
    "dt_fpr, dt_tpr, _ = roc_curve(y_test_binary, dt_probs)\n",
    "rf_fpr, rf_tpr, _ = roc_curve(y_test_binary, rf_probs)\n",
    "xgb_fpr, xgb_tpr, _ = roc_curve(y_test_binary, xgb_probs)\n",
    "baseline_fpr, baseline_tpr, _ = roc_curve(y_test_binary, baseline_probs)\n",
    "\n",
    "dt_auc = auc(dt_fpr, dt_tpr)\n",
    "rf_auc = auc(rf_fpr, rf_tpr)\n",
    "xgb_auc = auc(xgb_fpr, xgb_tpr)\n",
    "baseline_auc = auc(baseline_fpr, baseline_tpr)\n",
    "\n",
    "# Plot the ROC curve for each model in the same plot\n",
    "plt.plot(baseline_fpr, baseline_tpr, label='Baseline (AUC = {:.2f})'.format(baseline_auc),alpha=0.6)\n",
    "plt.plot(dt_fpr, dt_tpr, label='Decision Tree (AUC = {:.2f})'.format(dt_auc))\n",
    "plt.plot(rf_fpr, rf_tpr, label='Random Forest (AUC = {:.2f})'.format(rf_auc))\n",
    "plt.plot(xgb_fpr, xgb_tpr, label='XGBoost (AUC = {:.2f})'.format(xgb_auc))\n",
    "\n",
    "# Set the plot title and axis labels\n",
    "plt.title('Receiver Operating Characteristic (ROC) Curve')\n",
    "plt.xlabel('False Positive Rate')\n",
    "plt.ylabel('True Positive Rate')\n",
    "\n",
    "# Show the legend and plot\n",
    "plt.legend()\n",
    "plt.show()"
   ]
  }
 ],
 "metadata": {
  "kernelspec": {
   "display_name": "Python 3 (ipykernel)",
   "language": "python",
   "name": "python3"
  },
  "language_info": {
   "codemirror_mode": {
    "name": "ipython",
    "version": 3
   },
   "file_extension": ".py",
   "mimetype": "text/x-python",
   "name": "python",
   "nbconvert_exporter": "python",
   "pygments_lexer": "ipython3",
   "version": "3.9.7"
  },
  "vscode": {
   "interpreter": {
    "hash": "a05f4eab8a48e0fb699a9c4d2ff5136ad6fe08181e3a510e3ac6da38970e2134"
   }
  }
 },
 "nbformat": 4,
 "nbformat_minor": 4
}
